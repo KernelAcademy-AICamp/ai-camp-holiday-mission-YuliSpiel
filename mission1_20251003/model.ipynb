{
 "cells": [
  {
   "cell_type": "markdown",
   "id": "96164d58",
   "metadata": {},
   "source": [
    "API 키 불러오고 테스트하기"
   ]
  },
  {
   "cell_type": "code",
   "execution_count": 1,
   "id": "6e3dd982",
   "metadata": {},
   "outputs": [
    {
     "name": "stdout",
     "output_type": "stream",
     "text": [
      "Hello! How can I assist you today?\n"
     ]
    }
   ],
   "source": [
    "import os \n",
    "\n",
    "from openai import OpenAI\n",
    "\n",
    "OPENAI_API_KEY = os.environ['OPENAI_API_KEY']\n",
    "\n",
    "client = OpenAI(api_key=OPENAI_API_KEY)\n",
    "\n",
    "completion = client.chat.completions.create(\n",
    "    model='gpt-3.5-turbo-0125',\n",
    "    messages=[{'role': 'user', 'content': 'hi' }],\n",
    "    temperature=0.0\n",
    ")\n",
    "\n",
    "print(completion.choices[0].message.content)"
   ]
  },
  {
   "cell_type": "markdown",
   "id": "d62c628a",
   "metadata": {},
   "source": [
    "리뷰 파일 로드하기"
   ]
  },
  {
   "cell_type": "code",
   "execution_count": 2,
   "id": "8e438531",
   "metadata": {},
   "outputs": [
    {
     "data": {
      "text/plain": [
       "[{'review': '나인트리 인사동점은 처음이었는데 다른데와 달리 인사동스러운 분위기가 있었어요 한국식인데 깔끔하고 우아한 컨셉이라고 해야할지.. 직원분들이 엄청 친절해서 기분좋았고 객실도 너무 깨끗해서 만족스러웠어요ㅎㅎ 조계사 뷰를 받았는데 밤에는 약간 루미나리에 되어있는게, 아침엔 아침풍경이 멋있더라구요.소음도 아침 체크아웃 시간 안팎에 복도 청소소음 정도 뿐이고(이정도는 어디나 있으니까) 아주 푹 잘잤네요!\\n어메너티중 핸드워시는 리퀴드 치곤 약간 건조한 편이에요 건조함 예민하신 분들은 비누 따로 챙겨가시거나 하는게 좋을듯 합니다ㅎㅎ',\n",
       "  'stars': 5,\n",
       "  'date': '2025.01.08'},\n",
       " {'review': '위치도 너무 좋고 시설이 깔끔해서 좋았어요~\\n우선 침대랑 샤워실,화장실이 유리로 되어있지 않고 따로 구분되어 있어서 좋았어요~\\n저희가 더위를 잘타는데 에어컨도 빵빵해서 중간에 더워서 일어날일 없이 푹 자서 좋았어요😆\\n다음에도 인사동 올일 있다면 다시 오고 싶은 곳이에요~',\n",
       "  'stars': 5,\n",
       "  'date': '2025.08.19'},\n",
       " {'review': '방도 깔끔한 편이고 위치가 워낙 좋아서 만족스러웠어요. 조계사 뷰로 부탁드렸더니 낮은 층수였는데도 경치가 좋았어요. 침구도 푹신하고 책상이나 소파, 화장실도 깔끔했습니다. 조계사, 인사동 구경하기 딱 좋은 위치라 재밌었어요. 단점이라면 방이 덥고 건조하다는 거랑 구조가 조금 복잡한 편이라 길 찾기가 조금 어려울 수 있는 부분인데, 감안하더라도 다음에 또 오고싶을만큼 만족스러웠습니다. 특히 레이트 체크아웃이 가능해서 좋았어요.',\n",
       "  'stars': 5,\n",
       "  'date': '2024.12.04'}]"
      ]
     },
     "execution_count": 2,
     "metadata": {},
     "output_type": "execute_result"
    }
   ],
   "source": [
    "import json\n",
    "with open('./res/yanolja_review.json', 'r') as f:\n",
    "    review_list = json.load(f)\n",
    "\n",
    "review_list[:3]"
   ]
  },
  {
   "cell_type": "markdown",
   "id": "abdc531d",
   "metadata": {},
   "source": [
    "좋은 리뷰, 나쁜 리뷰 구분하고 카운트하기"
   ]
  },
  {
   "cell_type": "code",
   "execution_count": 4,
   "id": "57de577a",
   "metadata": {},
   "outputs": [
    {
     "data": {
      "text/plain": [
       "(159, 61)"
      ]
     },
     "execution_count": 4,
     "metadata": {},
     "output_type": "execute_result"
    }
   ],
   "source": [
    "good_cnt, bad_cnt = 0, 0\n",
    "for r in review_list:\n",
    "    if r['stars'] == 5:\n",
    "        good_cnt += 1\n",
    "    else:\n",
    "        bad_cnt += 1\n",
    "\n",
    "good_cnt, bad_cnt"
   ]
  },
  {
   "cell_type": "markdown",
   "id": "50f7dcdf",
   "metadata": {},
   "source": [
    "좋은 리뷰와 나쁜 리뷰 구분 후 저장"
   ]
  },
  {
   "cell_type": "code",
   "execution_count": 5,
   "id": "95156144",
   "metadata": {},
   "outputs": [
    {
     "data": {
      "text/plain": [
       "['[REVIEW_START]조계사 뷰라서 밤에 한국바이브 낭낭하구 완전 좋았어요!! 다만 넷플릭스 등 ott가 안된다는 점과 화장실이 생각보다 낙후됐다는 점이 아쉬웠습니다ㅠㅠ 변기는 짱 좋은데 욕조가!! 살짝 그랬네요!! 하지만 직원분들이 정말 친절하셨고 복도에 얼음정수기도 있다는 점은 정말 좋았어요!![REVIEW_END]',\n",
       " '[REVIEW_START]나인트리는 첫 이용인데 한지를 이용한 컨셉의 인테리어와 객실 청결, 프론트까지 다 좋았습니다. 인사동이 바로 앞이라 구경하고 데이트하기에도 좋습니다. 주차비를 받는점이 아쉬웠으나 객실 가격이 합리적인 가격에 책정되었기 때문에 납득 가능했습니다.[REVIEW_END]',\n",
       " '[REVIEW_START]직원분들 엄청 친절하고 좋았다\\n건물 동선이 길치인 내게 너무 헷갈렸다 \\nㅜㅜ\\n연박인데 첫날 먼지가 많아서 기침했는데 \\n청소 요청한 다음날은 더 쾌적함[REVIEW_END]']"
      ]
     },
     "execution_count": 5,
     "metadata": {},
     "output_type": "execute_result"
    }
   ],
   "source": [
    "reviews_good, reviews_bad = [], []\n",
    "for r in review_list:\n",
    "    if r['stars'] == 5:\n",
    "        reviews_good.append('[REVIEW_START]' + r['review'] + '[REVIEW_END]') #자연어 처리에 많이 쓰이는 스페셜 토큰\n",
    "    else:\n",
    "        reviews_bad.append('[REVIEW_START]' + r['review'] + '[REVIEW_END]') \n",
    "reviews_bad[:3]"
   ]
  },
  {
   "cell_type": "code",
   "execution_count": null,
   "id": "d8f2edd4",
   "metadata": {},
   "outputs": [
    {
     "data": {
      "text/plain": [
       "'[REVIEW_START]조계사 뷰라서 밤에 한국바이브 낭낭하구 완전 좋았어요!! 다만 넷플릭스 등 ott가 안된다는 점과 화장실이 생각보다 낙후됐다는 점이 아쉬웠습니다ㅠㅠ 변기는'"
      ]
     },
     "execution_count": 6,
     "metadata": {},
     "output_type": "execute_result"
    }
   ],
   "source": [
    "# 현재 리스트 구조인데, 실제 프롬프트에 넣을 때는 텍스트 구조여야 함.\n",
    "reviews_good_text = '\\n'.join(reviews_good)\n",
    "reviews_bad_text = '\\n'.join(reviews_bad)\n",
    "\n",
    "reviews_bad_text[:100]"
   ]
  },
  {
   "cell_type": "markdown",
   "id": "f9380c0c",
   "metadata": {},
   "source": [
    "전처리 함수 작성"
   ]
  },
  {
   "cell_type": "code",
   "execution_count": 14,
   "id": "2ca35084",
   "metadata": {},
   "outputs": [
    {
     "data": {
      "text/plain": [
       "'[REVIEW_START]위치도 너무 좋고 시설이 깔끔해서 좋았어요~\\n우선 침대랑 샤워실,화장실이 유리로 되어있지 않고 따로 구분되어 있어서 좋았어요~\\n저희가 더위를 잘타는데 에어'"
      ]
     },
     "execution_count": 14,
     "metadata": {},
     "output_type": "execute_result"
    }
   ],
   "source": [
    "import datetime\n",
    "from dateutil import parser\n",
    "\n",
    "def preprocess_reviews(path='./res/yanolja_review.json'):\n",
    "    with open(path, 'r', encoding='utf-8') as f:\n",
    "        review_list = json.load(f)\n",
    "\n",
    "    reviews_good, reviews_bad = [], []\n",
    "\n",
    "    current_date = datetime.datetime.now()\n",
    "    date_boundary = current_date - datetime.timedelta(days=6*30)\n",
    "\n",
    "    for r in review_list:\n",
    "        review_date_str =r['date']\n",
    "        try:\n",
    "            review_date = parser.parse(review_date_str)\n",
    "        except (ValueError, TypeError): # 날짜 형식이 아닌 경우(n일 전, n시간 전)\n",
    "            review_date = current_date\n",
    "\n",
    "        if review_date < date_boundary: # 기준일 이전에 작성된 리뷰는 무시\n",
    "            continue\n",
    "\n",
    "        if r['stars'] == 5:\n",
    "            reviews_good.append('[REVIEW_START]' + r['review'] + '[REVIEW_END]')\n",
    "        else:\n",
    "            reviews_bad.append('[REVIEW_START]' + r['review'] + '[REVIEW_END]') \n",
    "        \n",
    "    reviews_good_text = '\\n'.join(reviews_good)\n",
    "    reviews_bad_text = '\\n'.join(reviews_bad)\n",
    "\n",
    "    return reviews_good_text, reviews_bad_text\n",
    "    \n",
    "good, bad = preprocess_reviews()\n",
    "good[:100]"
   ]
  },
  {
   "cell_type": "markdown",
   "id": "1aee8125",
   "metadata": {},
   "source": [
    "평가용 함수 작성\n",
    "- 모델 기반 평가 (Pairwise Comparison)"
   ]
  },
  {
   "cell_type": "code",
   "execution_count": 26,
   "id": "a7410d8b",
   "metadata": {},
   "outputs": [],
   "source": [
    "def pairwise_eval(reviews, answer_a, answer_b):\n",
    "    eval_prompt = f\"\"\"[System]\n",
    "Please act as an impartial judge and evaluate the quality of the Korean summaries provided by two\n",
    "AI assistants to the set of user reviews on accommodations displayed below. You should choose the assistant that\n",
    "follows the user’s instructions and answers the user’s question better. Your evaluation\n",
    "should consider factors such as the helpfulness, relevance, accuracy, depth, creativity,\n",
    "and level of detail of their responses. Begin your evaluation by comparing the two\n",
    "responses and provide a short explanation. Avoid any position biases and ensure that the\n",
    "order in which the responses were presented does not influence your decision. Do not allow\n",
    "the length of the responses to influence your evaluation. Do not favor certain names of\n",
    "the assistants. Be as objective as possible. After providing your explanation, output your\n",
    "final verdict by strictly following this format: \"[[A]]\" if assistant A is better, \"[[B]]\"\n",
    "if assistant B is better, and \"[[C]]\" for a tie.\n",
    "[User Reviews]\n",
    "{reviews}\n",
    "[The Start of Assistant A’s Answer]\n",
    "{answer_a}\n",
    "[The End of Assistant A’s Answer]\n",
    "[The Start of Assistant B’s Answer]\n",
    "{answer_b}\n",
    "[The End of Assistant B’s Answer]\"\"\"\n",
    "    \n",
    "    completion = client.chat.completions.create(\n",
    "        model='gpt-4o-2024-05-13',\n",
    "        messages=[{'role': 'user', 'content': eval_prompt}],\n",
    "        temperature=0.0\n",
    "    )\n",
    "\n",
    "    return completion"
   ]
  },
  {
   "cell_type": "markdown",
   "id": "5e8b90bd",
   "metadata": {},
   "source": [
    "Baseline 모델 개발"
   ]
  },
  {
   "cell_type": "code",
   "execution_count": null,
   "id": "f88ce9d1",
   "metadata": {},
   "outputs": [],
   "source": [
    "PROMPT_BASELINE = f\"\"\"아래 숙소 리뷰에 대해 5문장 내로 요약해줘:\"\"\""
   ]
  },
  {
   "cell_type": "code",
   "execution_count": 25,
   "id": "6e3af0d2",
   "metadata": {},
   "outputs": [
    {
     "name": "stdout",
     "output_type": "stream",
     "text": [
      "위치가 좋고 시설이 깔끔하며 친절한 직원들이 있어서 편안한 숙박이었어요. 에어컨이 시원해서 푹 잘 수 있었고, 다음에도 또 방문하고 싶은 곳이에요. 근처에 다른 볼거리가 많아서 더욱 즐거웠고, 청결도와 서비스 모두 만족스러웠어요. 전망이 좋아서 짧은 시간이었지만 편안하게 쉬다 갈 수 있었어요.\n"
     ]
    }
   ],
   "source": [
    "reviews, _ = preprocess_reviews(path='./res/yanolja_review.json')\n",
    "\n",
    "def summarize(reviews, prompt, temperature=0.0, model='gpt-3.5-turbo-0125'): # 매번 쓰지 않아도 되도록\n",
    "    prompt = prompt + '\\n\\n' + reviews\n",
    "\n",
    "    completion = client.chat.completions.create(\n",
    "        model=model,\n",
    "        messages=[{'role': 'user', 'content': prompt}],\n",
    "        temperature=temperature\n",
    "    )\n",
    "\n",
    "    return completion\n",
    "\n",
    "print(summarize(reviews, PROMPT_BASELINE).choices[0].message.content)"
   ]
  },
  {
   "cell_type": "markdown",
   "id": "f1d3d468",
   "metadata": {},
   "source": [
    "대조군이 필요한데.... 실제 서비스에서 요약된 결과물 활용"
   ]
  },
  {
   "cell_type": "code",
   "execution_count": 23,
   "id": "df4a2449",
   "metadata": {},
   "outputs": [],
   "source": [
    "summary_real_20240526 = '위치가 매우 우수한 숙박시설로, 인사동과 조계사, 경복궁 등 관광지에 도보로 이동할 수 있는 편리한 위치에 있습니다. 객실은 깔끔하며 직원들의 친절한 서비스와 청결한 시설이 인상적입니다. 주변에는 맛집과 편의시설이 많아 편리하며, 교통 접근성도 좋습니다. 전체적으로 만족도가 높고 자주 방문하고 싶은 곳으로 손꼽히는 숙소로 평가됩니다.'"
   ]
  },
  {
   "cell_type": "code",
   "execution_count": 27,
   "id": "2ab7fe19",
   "metadata": {},
   "outputs": [
    {
     "name": "stdout",
     "output_type": "stream",
     "text": [
      "Assistant A와 Assistant B의 답변을 비교해보면 다음과 같습니다:\n",
      "\n",
      "1. **도움성**: \n",
      "   - Assistant A는 리뷰의 주요 포인트를 간략하게 요약하여 제공하고 있습니다. 위치, 시설, 직원의 친절함, 에어컨, 청결도, 서비스, 전망 등 다양한 요소를 언급하여 전반적인 숙박 경험을 잘 전달하고 있습니다.\n",
      "   - Assistant B는 위치의 우수성, 관광지 접근성, 객실의 깔끔함, 직원의 친절함, 청결한 시설, 주변 맛집과 편의시설, 교통 접근성 등 구체적인 정보를 제공하고 있습니다. \n",
      "\n",
      "2. **관련성**:\n",
      "   - Assistant A는 리뷰의 주요 내용을 충실히 반영하고 있으며, 각 리뷰에서 언급된 요소들을 빠짐없이 포함하고 있습니다.\n",
      "   - Assistant B는 리뷰에서 언급된 요소들을 잘 반영하고 있으며, 특히 위치와 관련된 정보를 상세히 제공하고 있습니다.\n",
      "\n",
      "3. **정확성**:\n",
      "   - Assistant A는 리뷰의 내용을 정확하게 요약하고 있으며, 각 리뷰의 주요 포인트를 잘 반영하고 있습니다.\n",
      "   - Assistant B도 리뷰의 내용을 정확하게 반영하고 있으며, 특히 위치와 관련된 정보를 구체적으로 제공하고 있습니다.\n",
      "\n",
      "4. **깊이**:\n",
      "   - Assistant A는 리뷰의 주요 포인트를 간략하게 요약하고 있어 깊이는 다소 부족할 수 있습니다.\n",
      "   - Assistant B는 위치와 관련된 정보를 상세히 제공하고 있어 깊이가 더 있습니다.\n",
      "\n",
      "5. **창의성**:\n",
      "   - Assistant A는 리뷰의 내용을 충실히 반영하고 있으나, 창의적인 요소는 다소 부족합니다.\n",
      "   - Assistant B는 위치와 관련된 정보를 구체적으로 제공하며, 창의적인 요소가 더 돋보입니다.\n",
      "\n",
      "6. **세부사항**:\n",
      "   - Assistant A는 리뷰의 주요 포인트를 간략하게 요약하고 있어 세부사항이 다소 부족할 수 있습니다.\n",
      "   - Assistant B는 위치와 관련된 정보를 상세히 제공하고 있어 세부사항이 더 풍부합니다.\n",
      "\n",
      "종합적으로 평가해보면, Assistant B의 답변이 더 구체적이고 깊이 있으며, 창의적인 요소가 돋보입니다. 따라서, Assistant B의 답변이 더 나은 것으로 판단됩니다.\n",
      "\n",
      "[[B]]\n"
     ]
    }
   ],
   "source": [
    "print(pairwise_eval(reviews, summarize(reviews, PROMPT_BASELINE).choices[0].message.content, summary_real_20240526).choices[0].message.content)\n"
   ]
  },
  {
   "cell_type": "markdown",
   "id": "09b62984",
   "metadata": {},
   "source": [
    "대규모 평가 스크립트\n",
    "- 여기서는 동일한 Prompt에 대해 temperature 높여서 평가 진행"
   ]
  },
  {
   "cell_type": "code",
   "execution_count": null,
   "id": "359c8472",
   "metadata": {},
   "outputs": [
    {
     "data": {
      "text/plain": [
       "['나인트리 인사동은 위치가 좋고, 시설이 깔끔하며 서비스가 좋다고 하네요. 침대와 샤워실이 유리로 되어있지 않아서 좋았고, 에어컨이 효과적이어서 편히 잘 수 있었다고 합니다. 다음에 또 방문하고 싶은 곳이라고 하네요. 위치와 청결도, 직원의 친절함 등이 좋다고 하며, 잠도 편안했다고 합니다. 편리한 교통과 아름다운 명소에 가까워 시설, 서비스, 위치 등이 모두 훌륭하다고 하네요.',\n",
       " '위치가 좋고 시설이 깔끔하며 에어컨이 시원했던 호텔로, 다시 방문하고 싶다는 의견이 많았습니다. 숙박한 손님들은 넓고 쾌적한 공간에 만족했고, 서비스와 친절함도 좋았다고 언급했습니다. 가격 대비 만족도가 높았으며, 편리한 교통과 아름다운 명소에 근접했다는 점을 강조하며 어메니티와 직원의 친절함을 칭찬했습니다. 이 숙소는 서울 여행을 더욱 특별하게 만들어준다는 긍정적인 리뷰가 많았습니다.',\n",
       " '위치가 좋고 시설이 깔끔하며 침대, 샤워실, 화장실이 따로 구분되어 좋았다.\\n에어컨이 효과적이어서 푹 자기에 좋았고, 다음에도 오고 싶은 곳이었다.\\n다른 볼거리가 주변에 있어 스테이상품 이용했지만 다음에는 숙박으로 놀러가고 싶다.\\n서울에 오면 머물고 싶은 호텔이며 위치, 시설, 서비스 모든 것이 완벽했다.\\n청결도와 직원 친절도도 좋았고, 전망과 편리한 교통이 더욱 훌륭했다.',\n",
       " '위치가 좋고 시설이 깔끔하며 에어컨이 좋아서 편안했고, 다음에도 방문하고 싶은 장소라고 말했습니다. 또 다른 손님은 깔끔하고 넓어서 더 쾌적했다며 다음에는 숙박으로 방문하고 싶다고 했습니다. 세 번째 손님은 나인트리 인사동을 항상 머물고 싶어한다고 말했고 네 번째는 방음도 잘되고 어메니티가 훌륭하다고 칭찬했습니다. 마지막으로 위치가 좋고 청결도, 서비스, 직원의 친절함 등 모든 것이 완벽하다고 칭찬했습니다.',\n",
       " '위치와 시설이 좋았고, 침대와 샤워실이 유리로 되어있지 않아서 좋았다. 에어컨이 빵빵해서 편안하게 휴식을 취할 수 있었고, 근처에 다른 볼일이 있어서 스테이상품을 이용했지만 숙박으로 다시 오고 싶은 곳이었다. 나인트리 인사동은 위치, 시설, 서비스가 완벽하고 항상 머물고 싶은 호텔이었다. 방음이 잘되고 어메니티와 직원의 친절도 좋아서 만족스러웠고, 체크인해준 직원분의 친절함과 전망이 좋아서 편안히 쉴 수 있었다. 위치가 편리하고 교통이 편리하며 응대와 어메니티도 좋아서 서울 여행을 더 즐겁게 해준 숙소였다.',\n",
       " '위치, 시설, 서비스가 모두 만족스러웠고, 특히 침대와 샤워실, 화장실이 유리로 되어있지 않고 따로 구분되어 있어서 좋았다. 에어컨이 빵빵해서 중간에 더워서 일어날일 없이 푹 잘 수 있었다. 깔끔하고 생각보다 넓어서 쾌적했으며, 다음에는 숙박으로 놀러가고 싶을 정도였다. 위치가 편리하고 교통이 편리하여 서울 여행을 더욱 풍요롭게 즐길 수 있었고, 응대와 어메니티도 만족스러웠다.체크인해주신 직원의 친절함과 객실에서 보여진 전망을 즐기며 잘 쉬다왔다.',\n",
       " '위치와 시설이 너무 좋고 깔끔한 숙소라서 좋아요. 에어컨이 시원해서 잠을 푹 자기 좋았고, 인사동에 다시 올 때도 머물고 싶은 곳이에요. 서비스와 청결도도 만족스러웠고, 직원들의 친절함도 좋았어요. 다음에는 숙박으로 더 오고 싶은 곳이에요.',\n",
       " '인사동에 위치한 숙소는 시설이 깔끔하고 침대와 화장실이 유리로 되어있지 않아서 좋았다. 더위를 잘 타는데 에어컨이 잘 되어 푹 잘 수 있었고, 근처에 다른 볼거리가 많아서 스테이만 이용했지만 다음에는 숙박으로 더 오고 싶다고 한다. 위치, 시설, 서비스가 모두 완벽한 나인트리 인사동은 항상 머물고 싶은 호텔이라고 칭찬을 받았다. 방음이 잘 되고 어메니티도 훌륭하며 청결도와 직원의 친절함에 대해 칭찬을 받았다. 또한 편리한 교통과 아름다운 명소에 가까운 위치, 프런트 직원들의 친절함 등을 통해 즐거운 서울 여행을 더욱 특별하게 만들어준 숙소로 손꼽혀있다.',\n",
       " '위치가 좋고 시설이 깔끔하며 에어컨도 좋은 호텔이었어요. 침대와 샤워실이 따로 구분되어 편했고 다음에 또 오고 싶은 곳이에요. 숙박 상품 이용 후 또 숙박하고 싶은 만족스러운 곳이었어요. 항상 머물고 싶은 호텔로서 위치, 시설, 서비스가 완벽했고 접근성이 좋았어요. 체크인 직원의 친절함과 좋은 전망으로 편안히 쉬었고 포근한 분위기와 친절한 직원들이 기분 좋은 여행을 만들어준 곳이었어요.',\n",
       " '위치도 좋고 시설이 깔끔하며 에어컨이 시원해서 편안한 숙박이었음.\\n침대와 샤워실, 화장실이 구분되어 있어 편리했고, 인근 볼거리와 접근성이 좋았음.\\n나인트리 인사동은 항상 머물고 싶은 호텔로 손꼽히는 곳임.\\n방음이 잘되었고 어메니티와 직원 친절도가 좋아서 만족스러웠음.\\n전망도 좋았고 직원분의 친절함이 인상적이었음.']"
      ]
     },
     "execution_count": 28,
     "metadata": {},
     "output_type": "execute_result"
    }
   ],
   "source": [
    "eval_count = 10\n",
    "\n",
    "# 같은 리뷰에 대해 eval_count만큼 다양하게 요약하기 \n",
    "summaries_baseline = [summarize(reviews, PROMPT_BASELINE, temperature=1.0).choices[0].message.content for _ in range(eval_count)]\n",
    "summaries_baseline"
   ]
  },
  {
   "cell_type": "code",
   "execution_count": null,
   "id": "20f55b1d",
   "metadata": {},
   "outputs": [],
   "source": [
    "from tqdm import tqdm\n",
    "\n",
    "\n",
    "def pairwise_eval_batch(reviews, answers_a, answers_b):\n",
    "    a_cnt, b_cnt, draw_cnt = 0, 0, 0\n",
    "    for i in tqdm(range(len(answers_a))):\n",
    "        completion = pairwise_eval(reviews, answers_a[i], answers_b[i])\n",
    "        verdict_text = completion.choices[0].message.content # 판정\n",
    "\n",
    "        if '[[A]]' in verdict_text:\n",
    "            a_cnt += 1\n",
    "        elif '[[B]]' in verdict_text:\n",
    "            b_cnt += 1\n",
    "        elif '[[C]]' in verdict_text:\n",
    "            draw_cnt += 1\n",
    "        else:\n",
    "            print('Evaluation Error')\n",
    "\n",
    "    return a_cnt, b_cnt, draw_cnt\n",
    "\n",
    "wins, losses, ties = pairwise_eval_batch(reviews, summaries_baseline, [summary_real_20240526 for _ in range(len(summaries_baseline))]) # B는 그냥 10개 그대로\n",
    "print(f'Wins: {wins}, Losses: {losses}, Ties: {ties}')"
   ]
  }
 ],
 "metadata": {
  "kernelspec": {
   "display_name": ".venv",
   "language": "python",
   "name": ".venv"
  },
  "language_info": {
   "codemirror_mode": {
    "name": "ipython",
    "version": 3
   },
   "file_extension": ".py",
   "mimetype": "text/x-python",
   "name": "python",
   "nbconvert_exporter": "python",
   "pygments_lexer": "ipython3",
   "version": "3.12.3"
  }
 },
 "nbformat": 4,
 "nbformat_minor": 5
}
